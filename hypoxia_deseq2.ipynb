{
  "nbformat": 4,
  "nbformat_minor": 0,
  "metadata": {
    "colab": {
      "provenance": [],
      "toc_visible": true,
      "authorship_tag": "ABX9TyOFZXX06sEqOWlPmliN7YG6",
      "include_colab_link": true
    },
    "kernelspec": {
      "name": "ir",
      "display_name": "R"
    },
    "language_info": {
      "name": "R"
    }
  },
  "cells": [
    {
      "cell_type": "markdown",
      "metadata": {
        "id": "view-in-github",
        "colab_type": "text"
      },
      "source": [
        "<a href=\"https://colab.research.google.com/github/pcarbo/rnaseq_tutorial/blob/main/hypoxia_deseq2.ipynb\" target=\"_parent\"><img src=\"https://colab.research.google.com/assets/colab-badge.svg\" alt=\"Open In Colab\"/></a>"
      ]
    },
    {
      "cell_type": "markdown",
      "source": [
        "A brief introduction to differential expression analysis with DESeq2\n",
        "====================================================================\n",
        "Peter Carbonetto<br>\n",
        "University of Chicago<br>\n",
        "Chicago, IL<br>\n",
        "*Last modified on September 26, 2023*\n",
        "\n",
        "This is only a brief tutorial on [DESeq2](https://github.com/thelovelab/DESeq2). For a much more in-depth introduction to DESeq2, I strongly recommend the [vignette](https://bioconductor.org/packages/devel/bioc/vignettes/DESeq2/inst/doc/DESeq2.html) included in the DESeq2 R package.\n",
        "\n",
        "*Disclaimer:* This tutorial may contain bugs or mistakes in the text. Please report any mistakes or bug fixes by posting a [GitHub Issue](https://github.com/pcarbo/rnaseq_tutorial/issues) or, better yet, by submitting a [pull request](https://github.com/pcarbo/rnaseq_tutorial/pulls)."
      ],
      "metadata": {
        "id": "qYXEpK3sur_5"
      }
    },
    {
      "cell_type": "markdown",
      "source": [
        "Initial setup\n",
        "-------------\n",
        "\n",
        "Run this line of code to check that you have a heartbeat (*i.e.*, a working virtual machine):"
      ],
      "metadata": {
        "id": "nlhZCNQQxnul"
      }
    },
    {
      "cell_type": "code",
      "source": [
        "sample(1000000,1)"
      ],
      "metadata": {
        "id": "xMwzsZKAxxn3"
      },
      "execution_count": null,
      "outputs": []
    },
    {
      "cell_type": "markdown",
      "source": [
        "This step is optional, but I run this every time in Jupyter notebook or Google Colab to make the code outputs look like they do in RStudio:"
      ],
      "metadata": {
        "id": "CHCZHJrrx9mr"
      }
    },
    {
      "cell_type": "code",
      "source": [
        "options(jupyter.rich_display = FALSE)"
      ],
      "metadata": {
        "id": "CRN0gdiJyBQq"
      },
      "execution_count": null,
      "outputs": []
    },
    {
      "cell_type": "markdown",
      "source": [
        "Install the packages from CRAN and Bioconductor that we will use to run the differential expression analysis. Note this may take a few minutes to complete as DESeq2 depends on many other packages that will also need to be installed."
      ],
      "metadata": {
        "id": "6csifXhpynH4"
      }
    },
    {
      "cell_type": "code",
      "source": [
        "install.packages(\"ashr\")\n",
        "install.packages(\"BiocManager\")\n",
        "BiocManager::install(\"DESeq2\")"
      ],
      "metadata": {
        "id": "z0pV1WwWywJT"
      },
      "execution_count": null,
      "outputs": []
    },
    {
      "cell_type": "code",
      "source": [
        "library(DESeq2)\n",
        "library(ashr)"
      ],
      "metadata": {
        "id": "EQrj_Wwn7SVB"
      },
      "execution_count": null,
      "outputs": []
    },
    {
      "cell_type": "markdown",
      "source": [
        "Now download and import the RNA-seq data into R. The data are from a [recent paper](https://doi.org/10.1126/sciadv.ade1942) studying transcriptional responses to sustained hypoxia."
      ],
      "metadata": {
        "id": "H8Zr8gvLyxSr"
      }
    },
    {
      "cell_type": "code",
      "source": [
        "download.file(\"https://raw.githubusercontent.com/pcarbo/rnaseq_tutorial/main/hypoxia.RData\",\"hypoxia.RData\")"
      ],
      "metadata": {
        "id": "gZGCI3mny4gf"
      },
      "execution_count": null,
      "outputs": []
    },
    {
      "cell_type": "code",
      "source": [
        "load(\"hypoxia.RData\")"
      ],
      "metadata": {
        "id": "saBII5206M7i"
      },
      "execution_count": null,
      "outputs": []
    },
    {
      "cell_type": "markdown",
      "source": [
        "A quick look at the data\n",
        "------------------------\n",
        "\n",
        "If you were successful, you should have two new objects in your environment containing the RNA-seq data."
      ],
      "metadata": {
        "id": "dMlS4oVL1ubH"
      }
    },
    {
      "cell_type": "code",
      "source": [
        "ls()"
      ],
      "metadata": {
        "id": "BWZ4KnSU1vyz"
      },
      "execution_count": null,
      "outputs": []
    },
    {
      "cell_type": "markdown",
      "source": [
        "The data consist of RNA-seq read counts measured in two conditioins (normoxia and hypoxia) for 3 ENH5-knockout and 3 wild-type clones."
      ],
      "metadata": {
        "id": "_SxBmH9H5Sn9"
      }
    },
    {
      "cell_type": "code",
      "source": [
        "samples"
      ],
      "metadata": {
        "id": "yuXWC8DY5Svk"
      },
      "execution_count": null,
      "outputs": []
    },
    {
      "cell_type": "markdown",
      "source": [
        "The RNA-seq data are counts stored in a matrix with rows corresponding to genes and columns corresponding to samples."
      ],
      "metadata": {
        "id": "5WaX-FK46toX"
      }
    },
    {
      "cell_type": "code",
      "source": [
        "class(counts)\n",
        "nrow(counts)\n",
        "ncol(counts)\n",
        "head(counts,n = 10)"
      ],
      "metadata": {
        "id": "CcnUGzp16txf"
      },
      "execution_count": null,
      "outputs": []
    },
    {
      "cell_type": "markdown",
      "source": [
        "For the moment, let's focus on the data from the wild-type mice:"
      ],
      "metadata": {
        "id": "MMjXolZB75Ws"
      }
    },
    {
      "cell_type": "code",
      "source": [
        "i <- which(samples$Line == \"WT\")\n",
        "counts <- counts[,i]\n",
        "samples <- samples[i,]\n",
        "dim(counts)\n",
        "samples"
      ],
      "metadata": {
        "id": "alsXWTj475hn"
      },
      "execution_count": null,
      "outputs": []
    },
    {
      "cell_type": "markdown",
      "source": [
        "What is a DE analysis?\n",
        "----------------------\n",
        "\n",
        "Fundamentally, in order to study the effect of hypoxia on expression, we would like to compare the read counts in the \"hypoxia\" condition to the read counts in the \"normoxia\" condition. It is helpful to take a few examples to see what these comparisons look like. Take the gene *EGNL3:"
      ],
      "metadata": {
        "id": "DSDLPxvP9fp0"
      }
    },
    {
      "cell_type": "code",
      "source": [
        "pdat <- data.frame(Treatment = samples$Treatment,\n",
        "                   EGLN3 = counts[\"EGLN3\",])\n",
        "pdat"
      ],
      "metadata": {
        "id": "PxTuLO3L9T_4"
      },
      "execution_count": null,
      "outputs": []
    },
    {
      "cell_type": "code",
      "source": [
        "options(repr.plot.width = 4,repr.plot.height = 4.5,repr.plot.res = 175)\n",
        "boxplot(EGLN3 ~ Treatment,data = pdat,boxwex = 0.25)"
      ],
      "metadata": {
        "id": "MF_6K1a396_H"
      },
      "execution_count": null,
      "outputs": []
    },
    {
      "cell_type": "code",
      "source": [
        "e1 <- mean(subset(pdat,Treatment == \"Hypoxia\")$EGLN3)\n",
        "e0 <- mean(subset(pdat,Treatment == \"Normoxia\")$EGLN3)\n",
        "e1\n",
        "e0\n",
        "log2(e1/e0)"
      ],
      "metadata": {
        "id": "zqJqGdtbA0l2"
      },
      "execution_count": null,
      "outputs": []
    },
    {
      "cell_type": "markdown",
      "source": [
        "This gene was actually highlighted in the paper because of its very large response to hypoxia, and indeed from a back-of-the-envelope calculation we got a very large LFC. However, most genes chosen at random will see changes to expression, both up and down, but the changes are more ambiguous. Let's take another example:"
      ],
      "metadata": {
        "id": "0vF-Y8lEATfx"
      }
    },
    {
      "cell_type": "code",
      "source": [
        "pdat <- data.frame(Treatment = samples$Treatment,\n",
        "                   EGLN3 = counts[\"TNFRSF12A\",])\n",
        "boxplot(EGLN3 ~ Treatment,data = pdat,boxwex = 0.25)"
      ],
      "metadata": {
        "id": "YV3qdVS2AUVr"
      },
      "execution_count": null,
      "outputs": []
    },
    {
      "cell_type": "code",
      "source": [
        "e1 <- mean(subset(pdat,Treatment == \"Hypoxia\")$EGLN3)\n",
        "e0 <- mean(subset(pdat,Treatment == \"Normoxia\")$EGLN3)\n",
        "e1\n",
        "e0\n",
        "log2(e1/e0)"
      ],
      "metadata": {
        "id": "ufo-ljbLBpUZ"
      },
      "execution_count": null,
      "outputs": []
    },
    {
      "cell_type": "markdown",
      "source": [
        "A central question is *which genes* have changes that are *significantly different* between the two conditions. We will use DESeq2 to answer this question more systematically. Again, we will focus on changes in hypoxia vs. normoxia in the WT mice."
      ],
      "metadata": {
        "id": "IkABcQlzEGlo"
      }
    },
    {
      "cell_type": "markdown",
      "source": [
        "A DE analysis using DESeq2\n",
        "--------------------------\n",
        "\n",
        "The first step in analyzing data using DESeq2 is to convert the data to an encoding that is convenient for DESeq2:"
      ],
      "metadata": {
        "id": "CALAQDPoNkHU"
      }
    },
    {
      "cell_type": "code",
      "source": [
        "dat <- DESeqDataSetFromMatrix(counts,samples,~Treatment)"
      ],
      "metadata": {
        "id": "dRuQP-OVFDew"
      },
      "execution_count": null,
      "outputs": []
    },
    {
      "cell_type": "code",
      "source": [
        "print(dat)"
      ],
      "metadata": {
        "id": "eLI6hygxFSuj"
      },
      "execution_count": null,
      "outputs": []
    },
    {
      "cell_type": "markdown",
      "source": [
        "Once we have set up our data for DESeq2, analyzing the data using DESeq2 is quite straightforward:"
      ],
      "metadata": {
        "id": "L9c2uY9xFgJb"
      }
    },
    {
      "cell_type": "code",
      "source": [
        "deseq <- DESeq(dat)"
      ],
      "metadata": {
        "id": "TIpAaHryFgQz"
      },
      "execution_count": null,
      "outputs": []
    },
    {
      "cell_type": "markdown",
      "source": [
        "Having run this analysis, we now have more rigorous LFC estimates:"
      ],
      "metadata": {
        "id": "9ONjrTOnF-V9"
      }
    },
    {
      "cell_type": "code",
      "source": [
        "lfc <- coef(deseq)[,\"Treatment_Hypoxia_vs_Normoxia\"]\n",
        "hist(lfc,n = 64)\n",
        "lfc[which(lfc > 8)]"
      ],
      "metadata": {
        "id": "w_V4J27eF-dj"
      },
      "execution_count": null,
      "outputs": []
    },
    {
      "cell_type": "markdown",
      "source": [
        "We can extract other statistics such as standard errors and p-values using the `results()` function:"
      ],
      "metadata": {
        "id": "p0Gm6co7Hyt2"
      }
    },
    {
      "cell_type": "code",
      "source": [
        "res <- results(deseq,alpha = 0.05,contrast = list(\"Treatment_Hypoxia_vs_Normoxia\"))"
      ],
      "metadata": {
        "id": "zt_DWFCcHzuJ"
      },
      "execution_count": null,
      "outputs": []
    },
    {
      "cell_type": "code",
      "source": [
        "head(res)"
      ],
      "metadata": {
        "id": "Fvq4MYWxH6ZC"
      },
      "execution_count": null,
      "outputs": []
    },
    {
      "cell_type": "code",
      "source": [
        "res[\"EGLN3\",]"
      ],
      "metadata": {
        "id": "LSiJ4z0sJx5y"
      },
      "execution_count": null,
      "outputs": []
    },
    {
      "cell_type": "code",
      "source": [
        "res[\"TNFRSF12A\",]"
      ],
      "metadata": {
        "id": "--RJLSyrJ3Og"
      },
      "execution_count": null,
      "outputs": []
    },
    {
      "cell_type": "markdown",
      "source": [
        "With these statistics we can easily generate a \"volcano plot\" showing the LFC estimate on the X axis and some measure of support or significance on the Y axis (e.g., a p-value)."
      ],
      "metadata": {
        "id": "HBv0SQO7KGqE"
      }
    },
    {
      "cell_type": "code",
      "source": [
        "pdat <- data.frame(lfc = res$log2FoldChange,\n",
        "                   pval = -log10(res$padj))\n",
        "pdat <- transform(pdat,pval = pmin(50,pval))\n",
        "plot(pdat$lfc,pdat$pval,pch = 20,\n",
        "     xlab = \"LFC\",ylab = \"-log10 p-value\",\n",
        "     main = \"hypoxia vs. normoxia\")"
      ],
      "metadata": {
        "id": "T4Cs3o4RKHV9"
      },
      "execution_count": null,
      "outputs": []
    },
    {
      "cell_type": "code",
      "source": [
        "subset(res,log2FoldChange > 6 & padj < 1e-5)"
      ],
      "metadata": {
        "id": "NNIXfxUEN9Mx"
      },
      "execution_count": null,
      "outputs": []
    },
    {
      "cell_type": "markdown",
      "source": [
        "A brief behind-the-scenes look\n",
        "------------------------------\n",
        "\n",
        "DESeq2 has two features that are important to most DE analyses:\n",
        "\n",
        "One, it can account for different *sequencing depths* among the RNA-seq samples:"
      ],
      "metadata": {
        "id": "s8H1fhHJT5vk"
      }
    },
    {
      "cell_type": "code",
      "source": [
        "sizeFactors(deseq)"
      ],
      "metadata": {
        "id": "9viCIeX3UAUa"
      },
      "execution_count": null,
      "outputs": []
    },
    {
      "cell_type": "markdown",
      "source": [
        "Two, it accounts for *overdispersion*—that is, additional variation that cannot be captured by the Poisson distribution:"
      ],
      "metadata": {
        "id": "Jyjy_Z0XUV4v"
      }
    },
    {
      "cell_type": "code",
      "source": [
        "summary(dispersions(deseq))"
      ],
      "metadata": {
        "id": "S1ym9HD5UWAr"
      },
      "execution_count": null,
      "outputs": []
    },
    {
      "cell_type": "markdown",
      "source": [
        "Improving the LFC estimates using shrinkage\n",
        "-------------------------------------------\n",
        "\n",
        "A nice feature of DESeq2 is that it provides an additional function `lfcShrink` for \"shrinking\" the LFC estimates—essentially, borrowing information across all genes to reduce the \"noise\" in the estimates. Let's see how doing this improves our analysis."
      ],
      "metadata": {
        "id": "7kJfqcjNLhIg"
      }
    },
    {
      "cell_type": "code",
      "source": [
        "res_shrunk <- lfcShrink(deseq,coef = \"Treatment_Hypoxia_vs_Normoxia\",type = \"ashr\",svalue = TRUE)"
      ],
      "metadata": {
        "id": "apjsHTaoMwib"
      },
      "execution_count": null,
      "outputs": []
    },
    {
      "cell_type": "code",
      "source": [
        "head(res_shrunk)"
      ],
      "metadata": {
        "id": "H-772auiQbpl"
      },
      "execution_count": null,
      "outputs": []
    },
    {
      "cell_type": "markdown",
      "source": [
        "Let's now compare the LFC estimates before and after shrinkage:"
      ],
      "metadata": {
        "id": "dC-m1KMfWJwF"
      }
    },
    {
      "cell_type": "code",
      "source": [
        "pdat <- data.frame(est = coef(deseq)[,\"Treatment_Hypoxia_vs_Normoxia\"],\n",
        "                   shrunk = res_shrunk$log2FoldChange)\n",
        "plot(pdat$est,pdat$shrunk,pch = 20,\n",
        "     xlab = \"original estimate\",\n",
        "     ylab = \"shrunken estimate\")\n",
        "abline(a = 0,b = 1,lty = \"dashed\",col = \"magenta\")"
      ],
      "metadata": {
        "id": "2LvpuiA1OQKb"
      },
      "execution_count": null,
      "outputs": []
    },
    {
      "cell_type": "markdown",
      "source": [
        "Here is what the volcano plot looks like with the shrunken estimates. (It is recommended to use the s-values provided by `ashr` instead of the p-values.)"
      ],
      "metadata": {
        "id": "s1DR0SiiWOwx"
      }
    },
    {
      "cell_type": "code",
      "source": [
        "pdat <- data.frame(lfc = res_shrunk$log2FoldChange,\n",
        "                   sval = -log10(res_shrunk$svalue))\n",
        "pdat <- transform(pdat,sval = pmin(40,sval))\n",
        "plot(pdat$lfc,pdat$sval,pch = 20,\n",
        "     xlab = \"shrunken LFC\",ylab = \"-log10 s-value\")"
      ],
      "metadata": {
        "id": "Fu0DEzwwQqNV"
      },
      "execution_count": null,
      "outputs": []
    },
    {
      "cell_type": "markdown",
      "source": [
        "\"Blunting\" of hypoxia response due to deletion of the *ENH5* enhancer\n",
        "---------------------------------------------------------------------\n",
        "\n",
        "To practice our newly acquired skills, let's redo the steps of the DESeq2 analysis using the RNA-seq data from the knockout (KO) mice."
      ],
      "metadata": {
        "id": "jweSvDxxXVLW"
      }
    },
    {
      "cell_type": "code",
      "source": [
        "load(\"hypoxia.RData\")\n",
        "i <- which(samples$Line == \"KO\")\n",
        "counts <- counts[,i]\n",
        "samples <- samples[i,]\n",
        "dat_ko <- DESeqDataSetFromMatrix(counts,samples,~Treatment)\n",
        "deseq_ko <- DESeq(dat_ko)\n",
        "res_ko <- results(deseq_ko,alpha = 0.05,contrast = list(\"Treatment_Hypoxia_vs_Normoxia\"))"
      ],
      "metadata": {
        "id": "rdTIY7pPXpVu"
      },
      "execution_count": null,
      "outputs": []
    },
    {
      "cell_type": "markdown",
      "source": [
        "Reassuringly, many of the top upregulated genes in the knockout mice are the same as what we saw before in the wild-type mice:"
      ],
      "metadata": {
        "id": "JJw2avcRYLmP"
      }
    },
    {
      "cell_type": "code",
      "source": [
        "subset(res_ko,log2FoldChange > 8)"
      ],
      "metadata": {
        "id": "zNGqDIFCZxZL"
      },
      "execution_count": null,
      "outputs": []
    },
    {
      "cell_type": "markdown",
      "source": [
        "To reproduce one of the main results of the paper, compare the LFC estimates from our DESeq2 analysis of the wild-type and knockout samples:"
      ],
      "metadata": {
        "id": "3XftVDB4aG9M"
      }
    },
    {
      "cell_type": "code",
      "source": [
        "pdat <- data.frame(wt = res$log2FoldChange,\n",
        "                   ko = res_ko$log2FoldChange)\n",
        "fit <- lm(ko ~ wt,pdat)\n",
        "coef(fit)"
      ],
      "metadata": {
        "id": "cmU_Mf4dYJ7x"
      },
      "execution_count": null,
      "outputs": []
    },
    {
      "cell_type": "code",
      "source": [
        "plot(pdat$wt,pdat$ko,pch = 20,xlab = \"wild-type\",ylab = \"knockout\")\n",
        "abline(a = coef(fit)[1],b = coef(fit)[2],col = \"magenta\",lty = \"dashed\")"
      ],
      "metadata": {
        "id": "aqZ7yBltY6WI"
      },
      "execution_count": null,
      "outputs": []
    },
    {
      "cell_type": "markdown",
      "source": [
        "Compare this plot to Fig. 3 of the paper."
      ],
      "metadata": {
        "id": "DYRJtF2IZLvB"
      }
    }
  ]
}