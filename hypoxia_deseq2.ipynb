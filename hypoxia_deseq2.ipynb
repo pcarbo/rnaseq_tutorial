{
  "nbformat": 4,
  "nbformat_minor": 0,
  "metadata": {
    "colab": {
      "provenance": [],
      "toc_visible": true,
      "authorship_tag": "ABX9TyO2AyFGhz2yt5GLy5sX83zg",
      "include_colab_link": true
    },
    "kernelspec": {
      "name": "ir",
      "display_name": "R"
    },
    "language_info": {
      "name": "R"
    }
  },
  "cells": [
    {
      "cell_type": "markdown",
      "metadata": {
        "id": "view-in-github",
        "colab_type": "text"
      },
      "source": [
        "<a href=\"https://colab.research.google.com/github/pcarbo/rnaseq_tutorial/blob/main/hypoxia_deseq2.ipynb\" target=\"_parent\"><img src=\"https://colab.research.google.com/assets/colab-badge.svg\" alt=\"Open In Colab\"/></a>"
      ]
    },
    {
      "cell_type": "markdown",
      "source": [
        "A brief introduction to differential expression analysis with DESeq2\n",
        "====================================================================\n",
        "Peter Carbonetto<br>\n",
        "University of Chicago<br>\n",
        "Chicago, IL<br>\n",
        "*Last modified on September 26, 2023*\n",
        "\n",
        "*Disclaimer:* This tutorial may contain bugs or mistakes in the text. Please report any mistakes or bug fixes by posting a [GitHub Issue](https://github.com/pcarbo/rnaseq_tutorial/issues)."
      ],
      "metadata": {
        "id": "qYXEpK3sur_5"
      }
    },
    {
      "cell_type": "markdown",
      "source": [
        "Initial setup\n",
        "-------------\n",
        "\n",
        "Run this line of code to check that you have a heartbeat (*i.e.*, a working virtual machine):"
      ],
      "metadata": {
        "id": "nlhZCNQQxnul"
      }
    },
    {
      "cell_type": "code",
      "source": [
        "sample(1000000,1)"
      ],
      "metadata": {
        "colab": {
          "base_uri": "https://localhost:8080/",
          "height": 34
        },
        "id": "xMwzsZKAxxn3",
        "outputId": "7267bb49-0d13-42b9-cf27-271fbb97209c"
      },
      "execution_count": 1,
      "outputs": [
        {
          "output_type": "display_data",
          "data": {
            "text/html": [
              "80089"
            ],
            "text/markdown": "80089",
            "text/latex": "80089",
            "text/plain": [
              "[1] 80089"
            ]
          },
          "metadata": {}
        }
      ]
    },
    {
      "cell_type": "markdown",
      "source": [
        "This step is optional, but I run this every time in Jupyter notebook or Google Colab to make the code outputs look like they do in RStudio:"
      ],
      "metadata": {
        "id": "CHCZHJrrx9mr"
      }
    },
    {
      "cell_type": "code",
      "source": [
        "options(jupyter.rich_display = FALSE)"
      ],
      "metadata": {
        "id": "CRN0gdiJyBQq"
      },
      "execution_count": 2,
      "outputs": []
    }
  ]
}