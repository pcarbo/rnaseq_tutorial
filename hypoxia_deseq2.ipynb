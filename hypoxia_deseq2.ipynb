{
  "nbformat": 4,
  "nbformat_minor": 0,
  "metadata": {
    "colab": {
      "provenance": [],
      "toc_visible": true,
      "authorship_tag": "ABX9TyOFZXX06sEqOWlPmliN7YG6",
      "include_colab_link": true
    },
    "kernelspec": {
      "name": "ir",
      "display_name": "R"
    },
    "language_info": {
      "name": "R"
    }
  },
  "cells": [
    {
      "cell_type": "markdown",
      "metadata": {
        "id": "view-in-github",
        "colab_type": "text"
      },
      "source": [
        "<a href=\"https://colab.research.google.com/github/pcarbo/rnaseq_tutorial/blob/main/hypoxia_deseq2.ipynb\" target=\"_parent\"><img src=\"https://colab.research.google.com/assets/colab-badge.svg\" alt=\"Open In Colab\"/></a>"
      ]
    },
    {
      "cell_type": "markdown",
      "source": [
        "A brief introduction to differential expression analysis with DESeq2\n",
        "====================================================================\n",
        "Peter Carbonetto<br>\n",
        "University of Chicago<br>\n",
        "Chicago, IL<br>\n",
        "*Last modified on September 26, 2023*\n",
        "\n",
        "This is only a brief tutorial on [DESeq2](https://github.com/thelovelab/DESeq2). For a much more in-depth introduction to DESeq2, I strongly recommend the [vignette](https://bioconductor.org/packages/devel/bioc/vignettes/DESeq2/inst/doc/DESeq2.html) included in the DESeq2 R package.\n",
        "\n",
        "*Disclaimer:* This tutorial may contain bugs or mistakes in the text. Please report any mistakes or bug fixes by posting a [GitHub Issue](https://github.com/pcarbo/rnaseq_tutorial/issues) or, better yet, by submitting a [pull request](https://github.com/pcarbo/rnaseq_tutorial/pulls)."
      ],
      "metadata": {
        "id": "qYXEpK3sur_5"
      }
    },
    {
      "cell_type": "markdown",
      "source": [
        "Initial setup\n",
        "-------------\n",
        "\n",
        "Run this line of code to check that you have a heartbeat (*i.e.*, a working virtual machine):"
      ],
      "metadata": {
        "id": "nlhZCNQQxnul"
      }
    },
    {
      "cell_type": "code",
      "source": [
        "sample(1000000,1)"
      ],
      "metadata": {
        "colab": {
          "base_uri": "https://localhost:8080/",
          "height": 34
        },
        "id": "xMwzsZKAxxn3",
        "outputId": "7267bb49-0d13-42b9-cf27-271fbb97209c"
      },
      "execution_count": 1,
      "outputs": [
        {
          "output_type": "display_data",
          "data": {
            "text/html": [
              "80089"
            ],
            "text/markdown": "80089",
            "text/latex": "80089",
            "text/plain": [
              "[1] 80089"
            ]
          },
          "metadata": {}
        }
      ]
    },
    {
      "cell_type": "markdown",
      "source": [
        "This step is optional, but I run this every time in Jupyter notebook or Google Colab to make the code outputs look like they do in RStudio:"
      ],
      "metadata": {
        "id": "CHCZHJrrx9mr"
      }
    },
    {
      "cell_type": "code",
      "source": [
        "options(jupyter.rich_display = FALSE)"
      ],
      "metadata": {
        "id": "CRN0gdiJyBQq"
      },
      "execution_count": 2,
      "outputs": []
    },
    {
      "cell_type": "markdown",
      "source": [
        "Install the packages from CRAN and Bioconductor that we will use to run the differential expression analysis. Note this may take a few minutes to complete as DESeq2 depends on many other packages that will also need to be installed."
      ],
      "metadata": {
        "id": "6csifXhpynH4"
      }
    },
    {
      "cell_type": "code",
      "source": [
        "install.packages(\"ashr\")\n",
        "install.packages(\"BiocManager\")\n",
        "BiocManager::install(\"DESeq2\")"
      ],
      "metadata": {
        "colab": {
          "base_uri": "https://localhost:8080/"
        },
        "id": "z0pV1WwWywJT",
        "outputId": "da20cea3-c22a-474c-af4e-6ae4c98b06a4"
      },
      "execution_count": 123,
      "outputs": [
        {
          "output_type": "stream",
          "name": "stderr",
          "text": [
            "Installing package into ‘/usr/local/lib/R/site-library’\n",
            "(as ‘lib’ is unspecified)\n",
            "\n",
            "also installing the dependencies ‘irlba’, ‘truncnorm’, ‘mixsqp’, ‘SQUAREM’, ‘etrunct’, ‘invgamma’\n",
            "\n",
            "\n",
            "Installing package into ‘/usr/local/lib/R/site-library’\n",
            "(as ‘lib’ is unspecified)\n",
            "\n",
            "'getOption(\"repos\")' replaces Bioconductor standard repositories, see\n",
            "'help(\"repositories\", package = \"BiocManager\")' for details.\n",
            "Replacement repositories:\n",
            "    CRAN: https://cran.rstudio.com\n",
            "\n",
            "Bioconductor version 3.17 (BiocManager 1.30.22), R 4.3.1 (2023-06-16)\n",
            "\n",
            "Warning message:\n",
            "“package(s) not installed when version(s) same as or greater than current; use\n",
            "  `force = TRUE` to re-install: 'DESeq2'”\n",
            "Old packages: 'bit', 'devtools', 'gargle', 'gert', 'highr', 'isoband', 'knitr',\n",
            "  'openssl', 'pkgload', 'prettyunits', 'rmarkdown', 'roxygen2', 'whisker',\n",
            "  'withr', 'boot', 'foreign', 'Matrix', 'nlme'\n",
            "\n"
          ]
        }
      ]
    },
    {
      "cell_type": "code",
      "source": [
        "library(DESeq2)\n",
        "library(ashr)"
      ],
      "metadata": {
        "colab": {
          "base_uri": "https://localhost:8080/"
        },
        "id": "EQrj_Wwn7SVB",
        "outputId": "432d6f86-ff90-4ce4-e3ed-3ae9b0a4f712"
      },
      "execution_count": 48,
      "outputs": [
        {
          "output_type": "stream",
          "name": "stderr",
          "text": [
            "Loading required package: S4Vectors\n",
            "\n",
            "Loading required package: stats4\n",
            "\n",
            "Loading required package: BiocGenerics\n",
            "\n",
            "\n",
            "Attaching package: ‘BiocGenerics’\n",
            "\n",
            "\n",
            "The following objects are masked from ‘package:stats’:\n",
            "\n",
            "    IQR, mad, sd, var, xtabs\n",
            "\n",
            "\n",
            "The following objects are masked from ‘package:base’:\n",
            "\n",
            "    anyDuplicated, aperm, append, as.data.frame, basename, cbind,\n",
            "    colnames, dirname, do.call, duplicated, eval, evalq, Filter, Find,\n",
            "    get, grep, grepl, intersect, is.unsorted, lapply, Map, mapply,\n",
            "    match, mget, order, paste, pmax, pmax.int, pmin, pmin.int,\n",
            "    Position, rank, rbind, Reduce, rownames, sapply, setdiff, sort,\n",
            "    table, tapply, union, unique, unsplit, which.max, which.min\n",
            "\n",
            "\n",
            "\n",
            "Attaching package: ‘S4Vectors’\n",
            "\n",
            "\n",
            "The following object is masked from ‘package:utils’:\n",
            "\n",
            "    findMatches\n",
            "\n",
            "\n",
            "The following objects are masked from ‘package:base’:\n",
            "\n",
            "    expand.grid, I, unname\n",
            "\n",
            "\n",
            "Loading required package: IRanges\n",
            "\n",
            "Loading required package: GenomicRanges\n",
            "\n",
            "Loading required package: GenomeInfoDb\n",
            "\n",
            "Loading required package: SummarizedExperiment\n",
            "\n",
            "Loading required package: MatrixGenerics\n",
            "\n",
            "Loading required package: matrixStats\n",
            "\n",
            "\n",
            "Attaching package: ‘MatrixGenerics’\n",
            "\n",
            "\n",
            "The following objects are masked from ‘package:matrixStats’:\n",
            "\n",
            "    colAlls, colAnyNAs, colAnys, colAvgsPerRowSet, colCollapse,\n",
            "    colCounts, colCummaxs, colCummins, colCumprods, colCumsums,\n",
            "    colDiffs, colIQRDiffs, colIQRs, colLogSumExps, colMadDiffs,\n",
            "    colMads, colMaxs, colMeans2, colMedians, colMins, colOrderStats,\n",
            "    colProds, colQuantiles, colRanges, colRanks, colSdDiffs, colSds,\n",
            "    colSums2, colTabulates, colVarDiffs, colVars, colWeightedMads,\n",
            "    colWeightedMeans, colWeightedMedians, colWeightedSds,\n",
            "    colWeightedVars, rowAlls, rowAnyNAs, rowAnys, rowAvgsPerColSet,\n",
            "    rowCollapse, rowCounts, rowCummaxs, rowCummins, rowCumprods,\n",
            "    rowCumsums, rowDiffs, rowIQRDiffs, rowIQRs, rowLogSumExps,\n",
            "    rowMadDiffs, rowMads, rowMaxs, rowMeans2, rowMedians, rowMins,\n",
            "    rowOrderStats, rowProds, rowQuantiles, rowRanges, rowRanks,\n",
            "    rowSdDiffs, rowSds, rowSums2, rowTabulates, rowVarDiffs, rowVars,\n",
            "    rowWeightedMads, rowWeightedMeans, rowWeightedMedians,\n",
            "    rowWeightedSds, rowWeightedVars\n",
            "\n",
            "\n",
            "Loading required package: Biobase\n",
            "\n",
            "Welcome to Bioconductor\n",
            "\n",
            "    Vignettes contain introductory material; view with\n",
            "    'browseVignettes()'. To cite Bioconductor, see\n",
            "    'citation(\"Biobase\")', and for packages 'citation(\"pkgname\")'.\n",
            "\n",
            "\n",
            "\n",
            "Attaching package: ‘Biobase’\n",
            "\n",
            "\n",
            "The following object is masked from ‘package:MatrixGenerics’:\n",
            "\n",
            "    rowMedians\n",
            "\n",
            "\n",
            "The following objects are masked from ‘package:matrixStats’:\n",
            "\n",
            "    anyMissing, rowMedians\n",
            "\n",
            "\n"
          ]
        }
      ]
    },
    {
      "cell_type": "markdown",
      "source": [
        "Now download and import the RNA-seq data into R. The data are from a [recent paper](https://doi.org/10.1126/sciadv.ade1942) studying transcriptional responses to sustained hypoxia."
      ],
      "metadata": {
        "id": "H8Zr8gvLyxSr"
      }
    },
    {
      "cell_type": "code",
      "source": [
        "download.file(\"https://raw.githubusercontent.com/pcarbo/rnaseq_tutorial/main/hypoxia.RData\",\"hypoxia.RData\")"
      ],
      "metadata": {
        "id": "gZGCI3mny4gf"
      },
      "execution_count": 36,
      "outputs": []
    },
    {
      "cell_type": "code",
      "source": [
        "load(\"hypoxia.RData\")"
      ],
      "metadata": {
        "id": "saBII5206M7i"
      },
      "execution_count": 38,
      "outputs": []
    },
    {
      "cell_type": "markdown",
      "source": [
        "A quick look at the data\n",
        "------------------------\n",
        "\n",
        "If you were successful, you should have two new objects in your environment containing the RNA-seq data."
      ],
      "metadata": {
        "id": "dMlS4oVL1ubH"
      }
    },
    {
      "cell_type": "code",
      "source": [
        "ls()"
      ],
      "metadata": {
        "colab": {
          "base_uri": "https://localhost:8080/",
          "height": 35
        },
        "id": "BWZ4KnSU1vyz",
        "outputId": "f8313a29-2937-4566-8dc5-3b721a2cb349"
      },
      "execution_count": 39,
      "outputs": [
        {
          "output_type": "display_data",
          "data": {
            "text/plain": [
              "[1] \"counts\"  \"samples\""
            ]
          },
          "metadata": {}
        }
      ]
    },
    {
      "cell_type": "markdown",
      "source": [
        "The data consist of RNA-seq read counts measured in two conditioins (normoxia and hypoxia) for 3 ENH5-knockout and 3 wild-type clones."
      ],
      "metadata": {
        "id": "_SxBmH9H5Sn9"
      }
    },
    {
      "cell_type": "code",
      "source": [
        "samples"
      ],
      "metadata": {
        "colab": {
          "base_uri": "https://localhost:8080/",
          "height": 256
        },
        "id": "yuXWC8DY5Svk",
        "outputId": "7eca66ef-28e9-4b76-e616-f592aa4ec786"
      },
      "execution_count": 40,
      "outputs": [
        {
          "output_type": "display_data",
          "data": {
            "text/plain": [
              "   Sample_ID Line Rep Treatment\n",
              "1  KO3.H     KO   KO3 Hypoxia  \n",
              "2  KO3.N     KO   KO3 Normoxia \n",
              "3  KO4.H     KO   KO4 Hypoxia  \n",
              "4  KO4.N     KO   KO4 Normoxia \n",
              "5  KO5.H     KO   KO5 Hypoxia  \n",
              "6  KO5.N     KO   KO5 Normoxia \n",
              "7  WT4.H     WT   WT4 Hypoxia  \n",
              "8  WT4.N     WT   WT4 Normoxia \n",
              "9  WT5.H     WT   WT5 Hypoxia  \n",
              "10 WT5.N     WT   WT5 Normoxia \n",
              "11 WT6.H     WT   WT6 Hypoxia  \n",
              "12 WT6.N     WT   WT6 Normoxia "
            ]
          },
          "metadata": {}
        }
      ]
    },
    {
      "cell_type": "markdown",
      "source": [
        "The RNA-seq data are counts stored in a matrix with rows corresponding to genes and columns corresponding to samples."
      ],
      "metadata": {
        "id": "5WaX-FK46toX"
      }
    },
    {
      "cell_type": "code",
      "source": [
        "class(counts)\n",
        "nrow(counts)\n",
        "ncol(counts)\n",
        "head(counts,n = 10)"
      ],
      "metadata": {
        "colab": {
          "base_uri": "https://localhost:8080/",
          "height": 274
        },
        "id": "CcnUGzp16txf",
        "outputId": "16f913fa-ff4a-4bb3-fc09-3c6daf58e3d5"
      },
      "execution_count": 47,
      "outputs": [
        {
          "output_type": "display_data",
          "data": {
            "text/plain": [
              "[1] \"matrix\" \"array\" "
            ]
          },
          "metadata": {}
        },
        {
          "output_type": "display_data",
          "data": {
            "text/plain": [
              "[1] 30123"
            ]
          },
          "metadata": {}
        },
        {
          "output_type": "display_data",
          "data": {
            "text/plain": [
              "[1] 12"
            ]
          },
          "metadata": {}
        },
        {
          "output_type": "display_data",
          "data": {
            "text/plain": [
              "        KO3.H KO3.N KO4.H KO4.N KO5.H KO5.N WT4.H WT4.N WT5.H WT5.N WT6.H WT6.N\n",
              "5S_rRNA    0    0      0    0      0     0     0    0      0     0    0     0  \n",
              "A1BG     118   71    119   41     99    85   152   82    211   109  161    58  \n",
              "A1CF       0    0      0    0      0     0     0    0      0     0    0     0  \n",
              "A2M      394  140    439  195    179   387   403  155    148    31    7    13  \n",
              "A2ML1      0    0      0    0      0     0     1    0      0     0    0     0  \n",
              "A2MP1      0    0      0    0      0     0     0    0      0     0    0     0  \n",
              "A3GALT2    0    0      0    0      0     0     0    0      0     0    0     0  \n",
              "A4GALT  1703  971   2486  919   3176  1573  1495  777   1906  1287  854   837  \n",
              "A4GNT      0    0      0    0      0     0     0    0      0     0    0     0  \n",
              "AAAS     842  941    892  551    894   940   930  941    896   962  941   881  "
            ]
          },
          "metadata": {}
        }
      ]
    },
    {
      "cell_type": "markdown",
      "source": [
        "For the moment, let's focus on the data from the wild-type mice:"
      ],
      "metadata": {
        "id": "MMjXolZB75Ws"
      }
    },
    {
      "cell_type": "code",
      "source": [
        "i <- which(samples$Line == \"WT\")\n",
        "counts <- counts[,i]\n",
        "samples <- samples[i,]\n",
        "dim(counts)\n",
        "samples"
      ],
      "metadata": {
        "colab": {
          "base_uri": "https://localhost:8080/",
          "height": 164
        },
        "id": "alsXWTj475hn",
        "outputId": "9f912b5a-d5d0-4d19-8f44-f4bd05e0abd7"
      },
      "execution_count": 52,
      "outputs": [
        {
          "output_type": "display_data",
          "data": {
            "text/plain": [
              "[1] 30123     6"
            ]
          },
          "metadata": {}
        },
        {
          "output_type": "display_data",
          "data": {
            "text/plain": [
              "   Sample_ID Line Rep Treatment\n",
              "7  WT4.H     WT   WT4 Hypoxia  \n",
              "8  WT4.N     WT   WT4 Normoxia \n",
              "9  WT5.H     WT   WT5 Hypoxia  \n",
              "10 WT5.N     WT   WT5 Normoxia \n",
              "11 WT6.H     WT   WT6 Hypoxia  \n",
              "12 WT6.N     WT   WT6 Normoxia "
            ]
          },
          "metadata": {}
        }
      ]
    },
    {
      "cell_type": "markdown",
      "source": [
        "What is a DE analysis?\n",
        "----------------------\n",
        "\n",
        "Fundamentally, in order to study the effect of hypoxia on expression, we would like to compare the read counts in the \"hypoxia\" condition to the read counts in the \"normoxia\" condition. It is helpful to take a few examples to see what these comparisons look like. Take the gene *EGNL3:"
      ],
      "metadata": {
        "id": "DSDLPxvP9fp0"
      }
    },
    {
      "cell_type": "code",
      "source": [
        "pdat <- data.frame(Treatment = samples$Treatment,\n",
        "                   EGLN3 = counts[\"EGLN3\",])\n",
        "pdat"
      ],
      "metadata": {
        "colab": {
          "base_uri": "https://localhost:8080/",
          "height": 146
        },
        "id": "PxTuLO3L9T_4",
        "outputId": "629ed494-eda4-43e3-a1dd-88e37478c80b"
      },
      "execution_count": 85,
      "outputs": [
        {
          "output_type": "display_data",
          "data": {
            "text/plain": [
              "      Treatment EGLN3\n",
              "WT4.H Hypoxia   5739 \n",
              "WT4.N Normoxia     2 \n",
              "WT5.H Hypoxia   5638 \n",
              "WT5.N Normoxia     0 \n",
              "WT6.H Hypoxia   6509 \n",
              "WT6.N Normoxia     7 "
            ]
          },
          "metadata": {}
        }
      ]
    },
    {
      "cell_type": "code",
      "source": [
        "options(repr.plot.width = 4,repr.plot.height = 4.5,repr.plot.res = 175)\n",
        "boxplot(EGLN3 ~ Treatment,data = pdat,boxwex = 0.25)"
      ],
      "metadata": {
        "colab": {
          "base_uri": "https://localhost:8080/",
          "height": 273
        },
        "id": "MF_6K1a396_H",
        "outputId": "f6a5f865-7b83-46eb-d157-8ffa51ff9657"
      },
      "execution_count": 141,
      "outputs": [
        {
          "output_type": "error",
          "ename": "ERROR",
          "evalue": "ignored",
          "traceback": [
            "Error in eval(predvars, data, env): object 'EGLN3' not found\nTraceback:\n",
            "1. boxplot(EGLN3 ~ Treatment, data = pdat, boxwex = 0.25)",
            "2. boxplot(EGLN3 ~ Treatment, data = pdat, boxwex = 0.25)",
            "3. boxplot.formula(EGLN3 ~ Treatment, data = pdat, boxwex = 0.25)",
            "4. eval(m, parent.frame())",
            "5. eval(m, parent.frame())",
            "6. stats::model.frame.default(formula = EGLN3 ~ Treatment, data = pdat)",
            "7. eval(predvars, data, env)",
            "8. eval(predvars, data, env)"
          ]
        }
      ]
    },
    {
      "cell_type": "code",
      "source": [
        "e1 <- mean(subset(pdat,Treatment == \"Hypoxia\")$EGLN3)\n",
        "e0 <- mean(subset(pdat,Treatment == \"Normoxia\")$EGLN3)\n",
        "e1\n",
        "e0\n",
        "log2(e1/e0)"
      ],
      "metadata": {
        "colab": {
          "base_uri": "https://localhost:8080/",
          "height": 72
        },
        "id": "zqJqGdtbA0l2",
        "outputId": "15634d9d-ae8b-4443-fd91-9521f78c0037"
      },
      "execution_count": 81,
      "outputs": [
        {
          "output_type": "display_data",
          "data": {
            "text/plain": [
              "[1] 5962"
            ]
          },
          "metadata": {}
        },
        {
          "output_type": "display_data",
          "data": {
            "text/plain": [
              "[1] 3"
            ]
          },
          "metadata": {}
        },
        {
          "output_type": "display_data",
          "data": {
            "text/plain": [
              "[1] 10.95662"
            ]
          },
          "metadata": {}
        }
      ]
    },
    {
      "cell_type": "markdown",
      "source": [
        "This gene was actually highlighted in the paper because of its very large response to hypoxia, and indeed from a back-of-the-envelope calculation we got a very large LFC. However, most genes chosen at random will see changes to expression, both up and down, but the changes are more ambiguous. Let's take another example:"
      ],
      "metadata": {
        "id": "0vF-Y8lEATfx"
      }
    },
    {
      "cell_type": "code",
      "source": [
        "pdat <- data.frame(Treatment = samples$Treatment,\n",
        "                   EGLN3 = counts[\"TNFRSF12A\",])\n",
        "boxplot(EGLN3 ~ Treatment,data = pdat,boxwex = 0.25)"
      ],
      "metadata": {
        "colab": {
          "base_uri": "https://localhost:8080/",
          "height": 367
        },
        "id": "YV3qdVS2AUVr",
        "outputId": "bd697ca0-0c2e-4dd6-c4dc-af3c6d6238d9"
      },
      "execution_count": 83,
      "outputs": [
        {
          "output_type": "display_data",
          "data": {
            "text/plain": [
              "plot without title"
            ],
            "image/png": "[encoded data removed]"
          },
          "metadata": {
            "image/png": {
              "width": 350,
              "height": 350
            }
          }
        }
      ]
    },
    {
      "cell_type": "code",
      "source": [
        "e1 <- mean(subset(pdat,Treatment == \"Hypoxia\")$EGLN3)\n",
        "e0 <- mean(subset(pdat,Treatment == \"Normoxia\")$EGLN3)\n",
        "e1\n",
        "e0\n",
        "log2(e1/e0)"
      ],
      "metadata": {
        "colab": {
          "base_uri": "https://localhost:8080/",
          "height": 72
        },
        "id": "ufo-ljbLBpUZ",
        "outputId": "ed842dbd-8c15-45fb-ce11-b4dddee21622"
      },
      "execution_count": 84,
      "outputs": [
        {
          "output_type": "display_data",
          "data": {
            "text/plain": [
              "[1] 1436.333"
            ]
          },
          "metadata": {}
        },
        {
          "output_type": "display_data",
          "data": {
            "text/plain": [
              "[1] 514.6667"
            ]
          },
          "metadata": {}
        },
        {
          "output_type": "display_data",
          "data": {
            "text/plain": [
              "[1] 1.48068"
            ]
          },
          "metadata": {}
        }
      ]
    },
    {
      "cell_type": "markdown",
      "source": [
        "A central question is *which genes* have changes that are *significantly different* between the two conditions. We will use DESeq2 to answer this question more systematically. Again, we will focus on changes in hypoxia vs. normoxia in the WT mice."
      ],
      "metadata": {
        "id": "IkABcQlzEGlo"
      }
    },
    {
      "cell_type": "markdown",
      "source": [
        "A DE analysis using DESeq2\n",
        "--------------------------\n",
        "\n",
        "The first step in analyzing data using DESeq2 is to convert the data to an encoding that is convenient for DESeq2:"
      ],
      "metadata": {
        "id": "CALAQDPoNkHU"
      }
    },
    {
      "cell_type": "code",
      "source": [
        "dat <- DESeqDataSetFromMatrix(counts,samples,~Treatment)"
      ],
      "metadata": {
        "id": "dRuQP-OVFDew"
      },
      "execution_count": 87,
      "outputs": []
    },
    {
      "cell_type": "code",
      "source": [
        "print(dat)"
      ],
      "metadata": {
        "colab": {
          "base_uri": "https://localhost:8080/"
        },
        "id": "eLI6hygxFSuj",
        "outputId": "1c0021a3-2946-4b31-fa9e-a8dc609ddeaf"
      },
      "execution_count": 90,
      "outputs": [
        {
          "output_type": "stream",
          "name": "stdout",
          "text": [
            "class: DESeqDataSet \n",
            "dim: 30123 6 \n",
            "metadata(1): version\n",
            "assays(1): counts\n",
            "rownames(30123): 5S_rRNA A1BG ... ZZEF1 ZZZ3\n",
            "rowData names(0):\n",
            "colnames(6): WT4.H WT4.N ... WT6.H WT6.N\n",
            "colData names(4): Sample_ID Line Rep Treatment\n"
          ]
        }
      ]
    },
    {
      "cell_type": "markdown",
      "source": [
        "Once we have set up our data for DESeq2, analyzing the data using DESeq2 is quite straightforward:"
      ],
      "metadata": {
        "id": "L9c2uY9xFgJb"
      }
    },
    {
      "cell_type": "code",
      "source": [
        "deseq <- DESeq(dat)"
      ],
      "metadata": {
        "colab": {
          "base_uri": "https://localhost:8080/"
        },
        "id": "TIpAaHryFgQz",
        "outputId": "579f7581-5642-4283-ede3-8fa59c9ed6d8"
      },
      "execution_count": 92,
      "outputs": [
        {
          "output_type": "stream",
          "name": "stderr",
          "text": [
            "estimating size factors\n",
            "\n",
            "estimating dispersions\n",
            "\n",
            "gene-wise dispersion estimates\n",
            "\n",
            "mean-dispersion relationship\n",
            "\n",
            "final dispersion estimates\n",
            "\n",
            "fitting model and testing\n",
            "\n"
          ]
        }
      ]
    },
    {
      "cell_type": "markdown",
      "source": [
        "Having run this analysis, we now have more rigorous LFC estimates:"
      ],
      "metadata": {
        "id": "9ONjrTOnF-V9"
      }
    },
    {
      "cell_type": "code",
      "source": [
        "lfc <- coef(deseq)[,\"Treatment_Hypoxia_vs_Normoxia\"]\n",
        "hist(lfc,n = 64)\n",
        "lfc[which(lfc > 8)]"
      ],
      "metadata": {
        "colab": {
          "base_uri": "https://localhost:8080/",
          "height": 404
        },
        "id": "w_V4J27eF-dj",
        "outputId": "e4f10a3a-d18b-425c-8828-1f9cf51a7b17"
      },
      "execution_count": 133,
      "outputs": [
        {
          "output_type": "display_data",
          "data": {
            "text/plain": [
              "    AGTR1       CA2     EGLN3     ENKUR     MCHR1     SRARP \n",
              " 8.018614  8.836889 11.022365  9.376843  8.418889 12.315100 "
            ]
          },
          "metadata": {}
        },
        {
          "output_type": "display_data",
          "data": {
            "text/plain": [
              "Plot with title “Histogram of lfc”"
            ],
            "image/png": "[encoded data removed]"
          },
          "metadata": {
            "image/png": {
              "width": 350,
              "height": 350
            }
          }
        }
      ]
    },
    {
      "cell_type": "markdown",
      "source": [
        "We can extract other statistics such as standard errors and p-values using the `results()` function:"
      ],
      "metadata": {
        "id": "p0Gm6co7Hyt2"
      }
    },
    {
      "cell_type": "code",
      "source": [
        "res <- results(deseq,alpha = 0.05,contrast = list(\"Treatment_Hypoxia_vs_Normoxia\"))"
      ],
      "metadata": {
        "id": "zt_DWFCcHzuJ"
      },
      "execution_count": 106,
      "outputs": []
    },
    {
      "cell_type": "code",
      "source": [
        "head(res)"
      ],
      "metadata": {
        "colab": {
          "base_uri": "https://localhost:8080/",
          "height": 219
        },
        "id": "Fvq4MYWxH6ZC",
        "outputId": "44cb5b0c-d40e-4cc3-dd1e-922e6ba0fc8f"
      },
      "execution_count": 111,
      "outputs": [
        {
          "output_type": "display_data",
          "data": {
            "text/plain": [
              "log2 fold change (MLE): Treatment_Hypoxia_vs_Normoxia effect \n",
              "Wald test p-value: Treatment_Hypoxia_vs_Normoxia effect \n",
              "DataFrame with 6 rows and 6 columns\n",
              "          baseMean log2FoldChange     lfcSE      stat     pvalue       padj\n",
              "         <numeric>      <numeric> <numeric> <numeric>  <numeric>  <numeric>\n",
              "5S_rRNA   0.000000             NA        NA        NA         NA         NA\n",
              "A1BG    129.939775        1.14230  0.336866  3.390961 0.00069648 0.00316765\n",
              "A1CF      0.000000             NA        NA        NA         NA         NA\n",
              "A2M     127.292510        1.53126  1.494817  1.024376 0.30565766 0.45037760\n",
              "A2ML1     0.167264        1.02760  4.080473  0.251834 0.80116929         NA\n",
              "A2MP1     0.000000             NA        NA        NA         NA         NA"
            ]
          },
          "metadata": {}
        }
      ]
    },
    {
      "cell_type": "code",
      "source": [
        "res[\"EGLN3\",]"
      ],
      "metadata": {
        "colab": {
          "base_uri": "https://localhost:8080/",
          "height": 127
        },
        "id": "LSiJ4z0sJx5y",
        "outputId": "4b21868f-12af-4a08-9153-8e6779c2729c"
      },
      "execution_count": 112,
      "outputs": [
        {
          "output_type": "display_data",
          "data": {
            "text/plain": [
              "log2 fold change (MLE): Treatment_Hypoxia_vs_Normoxia effect \n",
              "Wald test p-value: Treatment_Hypoxia_vs_Normoxia effect \n",
              "DataFrame with 1 row and 6 columns\n",
              "       baseMean log2FoldChange     lfcSE      stat       pvalue         padj\n",
              "      <numeric>      <numeric> <numeric> <numeric>    <numeric>    <numeric>\n",
              "EGLN3   3041.03        11.0224  0.507557   21.7165 1.43279e-104 9.31531e-101"
            ]
          },
          "metadata": {}
        }
      ]
    },
    {
      "cell_type": "code",
      "source": [
        "res[\"TNFRSF12A\",]"
      ],
      "metadata": {
        "colab": {
          "base_uri": "https://localhost:8080/",
          "height": 127
        },
        "id": "--RJLSyrJ3Og",
        "outputId": "f48d797f-f5b8-4e06-ec38-81e1e10a60dc"
      },
      "execution_count": 113,
      "outputs": [
        {
          "output_type": "display_data",
          "data": {
            "text/plain": [
              "log2 fold change (MLE): Treatment_Hypoxia_vs_Normoxia effect \n",
              "Wald test p-value: Treatment_Hypoxia_vs_Normoxia effect \n",
              "DataFrame with 1 row and 6 columns\n",
              "           baseMean log2FoldChange     lfcSE      stat      pvalue        padj\n",
              "          <numeric>      <numeric> <numeric> <numeric>   <numeric>   <numeric>\n",
              "TNFRSF12A   979.263        1.54434  0.369421   4.18045 2.90937e-05 0.000202845"
            ]
          },
          "metadata": {}
        }
      ]
    },
    {
      "cell_type": "markdown",
      "source": [
        "With these statistics we can easily generate a \"volcano plot\" showing the LFC estimate on the X axis and some measure of support or significance on the Y axis (e.g., a p-value)."
      ],
      "metadata": {
        "id": "HBv0SQO7KGqE"
      }
    },
    {
      "cell_type": "code",
      "source": [
        "pdat <- data.frame(lfc = res$log2FoldChange,\n",
        "                   pval = -log10(res$padj))\n",
        "pdat <- transform(pdat,pval = pmin(50,pval))\n",
        "plot(pdat$lfc,pdat$pval,pch = 20,\n",
        "     xlab = \"LFC\",ylab = \"-log10 p-value\",\n",
        "     main = \"hypoxia vs. normoxia\")"
      ],
      "metadata": {
        "colab": {
          "base_uri": "https://localhost:8080/",
          "height": 410
        },
        "id": "T4Cs3o4RKHV9",
        "outputId": "e5c0b58e-3b45-445b-cb74-a017f3cd04ef"
      },
      "execution_count": 143,
      "outputs": [
        {
          "output_type": "display_data",
          "data": {
            "text/plain": [
              "Plot with title “hypoxia vs. normoxia”"
            ],
            "image/png": "[encoded data removed]"
          },
          "metadata": {
            "image/png": {
              "width": 350,
              "height": 393.75
            }
          }
        }
      ]
    },
    {
      "cell_type": "code",
      "source": [
        "subset(res,log2FoldChange > 6 & padj < 1e-5)"
      ],
      "metadata": {
        "colab": {
          "base_uri": "https://localhost:8080/",
          "height": 237
        },
        "id": "NNIXfxUEN9Mx",
        "outputId": "6153d978-a4c3-45d2-aa4f-fd43630d97bc"
      },
      "execution_count": 125,
      "outputs": [
        {
          "output_type": "display_data",
          "data": {
            "text/plain": [
              "log2 fold change (MLE): Treatment_Hypoxia_vs_Normoxia effect \n",
              "Wald test p-value: Treatment_Hypoxia_vs_Normoxia effect \n",
              "DataFrame with 7 rows and 6 columns\n",
              "       baseMean log2FoldChange     lfcSE      stat       pvalue         padj\n",
              "      <numeric>      <numeric> <numeric> <numeric>    <numeric>    <numeric>\n",
              "AGTR1   45.4414        8.01861  1.482807   5.40773  6.38301e-08  8.87681e-07\n",
              "CA2     80.0279        8.83689  1.228865   7.19110  6.42713e-13  2.67003e-11\n",
              "DEPP1 2023.9632        6.37815  0.945058   6.74895  1.48917e-11  4.71136e-10\n",
              "EGLN3 3041.0290       11.02237  0.507557  21.71650 1.43279e-104 9.31531e-101\n",
              "ENKUR  216.1671        9.37684  1.070343   8.76059  1.94225e-18  1.95776e-16\n",
              "MCHR1   30.6785        8.41889  1.411848   5.96303  2.47606e-09  4.83427e-08\n",
              "SRARP  456.8151       12.31510  1.239531   9.93529  2.92314e-23  5.75903e-21"
            ]
          },
          "metadata": {}
        }
      ]
    },
    {
      "cell_type": "markdown",
      "source": [
        "A brief behind-the-scenes look\n",
        "------------------------------\n",
        "\n",
        "DESeq2 has two features that are important to most DE analyses:\n",
        "\n",
        "One, it can account for different *sequencing depths* among the RNA-seq samples:"
      ],
      "metadata": {
        "id": "s8H1fhHJT5vk"
      }
    },
    {
      "cell_type": "code",
      "source": [
        "sizeFactors(deseq)"
      ],
      "metadata": {
        "colab": {
          "base_uri": "https://localhost:8080/",
          "height": 54
        },
        "id": "9viCIeX3UAUa",
        "outputId": "ca0bdec1-31e7-4a0b-dda7-88814209ef98"
      },
      "execution_count": 158,
      "outputs": [
        {
          "output_type": "display_data",
          "data": {
            "text/plain": [
              "    WT4.H     WT4.N     WT5.H     WT5.N     WT6.H     WT6.N \n",
              "0.9964303 1.0085583 0.9490630 1.0271749 0.9956682 1.0422541 "
            ]
          },
          "metadata": {}
        }
      ]
    },
    {
      "cell_type": "markdown",
      "source": [
        "Two, it accounts for *overdispersion*—that is, additional variation that cannot be captured by the Poisson distribution:"
      ],
      "metadata": {
        "id": "Jyjy_Z0XUV4v"
      }
    },
    {
      "cell_type": "code",
      "source": [
        "summary(dispersions(deseq))"
      ],
      "metadata": {
        "colab": {
          "base_uri": "https://localhost:8080/",
          "height": 54
        },
        "id": "S1ym9HD5UWAr",
        "outputId": "76c71c8c-99e5-4e31-c601-3dcfbe6aeaf1"
      },
      "execution_count": 159,
      "outputs": [
        {
          "output_type": "display_data",
          "data": {
            "text/plain": [
              "   Min. 1st Qu.  Median    Mean 3rd Qu.    Max.    NA's \n",
              "  0.005   0.022   0.057   1.861   1.204  10.000   12893 "
            ]
          },
          "metadata": {}
        }
      ]
    },
    {
      "cell_type": "markdown",
      "source": [
        "Improving the LFC estimates using shrinkage\n",
        "-------------------------------------------\n",
        "\n",
        "A nice feature of DESeq2 is that it provides an additional function `lfcShrink` for \"shrinking\" the LFC estimates—essentially, borrowing information across all genes to reduce the \"noise\" in the estimates. Let's see how doing this improves our analysis."
      ],
      "metadata": {
        "id": "7kJfqcjNLhIg"
      }
    },
    {
      "cell_type": "code",
      "source": [
        "res_shrunk <- lfcShrink(deseq,coef = \"Treatment_Hypoxia_vs_Normoxia\",type = \"ashr\",svalue = TRUE)"
      ],
      "metadata": {
        "colab": {
          "base_uri": "https://localhost:8080/"
        },
        "id": "apjsHTaoMwib",
        "outputId": "720d5afc-cc7b-4b1f-fd9e-16b94579a4b1"
      },
      "execution_count": 150,
      "outputs": [
        {
          "output_type": "stream",
          "name": "stderr",
          "text": [
            "using 'ashr' for LFC shrinkage. If used in published research, please cite:\n",
            "    Stephens, M. (2016) False discovery rates: a new deal. Biostatistics, 18:2.\n",
            "    https://doi.org/10.1093/biostatistics/kxw041\n",
            "\n"
          ]
        }
      ]
    },
    {
      "cell_type": "code",
      "source": [
        "head(res_shrunk)"
      ],
      "metadata": {
        "colab": {
          "base_uri": "https://localhost:8080/",
          "height": 219
        },
        "id": "H-772auiQbpl",
        "outputId": "9c2825cc-6efc-495b-8c8f-656e6b685689"
      },
      "execution_count": 151,
      "outputs": [
        {
          "output_type": "display_data",
          "data": {
            "text/plain": [
              "log2 fold change (MMSE): Treatment Hypoxia vs Normoxia \n",
              " \n",
              "DataFrame with 6 rows and 4 columns\n",
              "          baseMean log2FoldChange     lfcSE      svalue\n",
              "         <numeric>      <numeric> <numeric>   <numeric>\n",
              "5S_rRNA   0.000000      0.0000000  0.752859 0.224547824\n",
              "A1BG    129.939775      0.8674312  0.335041 0.000324584\n",
              "A1CF      0.000000      0.0000000  0.752859 0.224563809\n",
              "A2M     127.292510      0.2199456  0.598852 0.096761627\n",
              "A2ML1     0.167264      0.0282517  0.678154 0.190988557\n",
              "A2MP1     0.000000      0.0000000  0.752859 0.224579792"
            ]
          },
          "metadata": {}
        }
      ]
    },
    {
      "cell_type": "markdown",
      "source": [
        "Let's now compare the LFC estimates before and after shrinkage:"
      ],
      "metadata": {
        "id": "dC-m1KMfWJwF"
      }
    },
    {
      "cell_type": "code",
      "source": [
        "pdat <- data.frame(est = coef(deseq)[,\"Treatment_Hypoxia_vs_Normoxia\"],\n",
        "                   shrunk = res_shrunk$log2FoldChange)\n",
        "plot(pdat$est,pdat$shrunk,pch = 20,\n",
        "     xlab = \"original estimate\",\n",
        "     ylab = \"shrunken estimate\")\n",
        "abline(a = 0,b = 1,lty = \"dashed\",col = \"magenta\")"
      ],
      "metadata": {
        "colab": {
          "base_uri": "https://localhost:8080/",
          "height": 410
        },
        "id": "2LvpuiA1OQKb",
        "outputId": "b0b9efdb-7f43-4196-b864-7e5d0639afae"
      },
      "execution_count": 148,
      "outputs": [
        {
          "output_type": "display_data",
          "data": {
            "text/plain": [
              "plot without title"
            ],
            "image/png": "[encoded data removed]"
          },
          "metadata": {
            "image/png": {
              "width": 350,
              "height": 393.75
            }
          }
        }
      ]
    },
    {
      "cell_type": "markdown",
      "source": [
        "Here is what the volcano plot looks like with the shrunken estimates. (It is recommended to use the s-values provided by `ashr` instead of the p-values.)"
      ],
      "metadata": {
        "id": "s1DR0SiiWOwx"
      }
    },
    {
      "cell_type": "code",
      "source": [
        "pdat <- data.frame(lfc = res_shrunk$log2FoldChange,\n",
        "                   sval = -log10(res_shrunk$svalue))\n",
        "pdat <- transform(pdat,sval = pmin(40,sval))\n",
        "plot(pdat$lfc,pdat$sval,pch = 20,\n",
        "     xlab = \"shrunken LFC\",ylab = \"-log10 s-value\")"
      ],
      "metadata": {
        "colab": {
          "base_uri": "https://localhost:8080/",
          "height": 410
        },
        "id": "Fu0DEzwwQqNV",
        "outputId": "08ea9585-5999-44cb-913b-292607a77ff3"
      },
      "execution_count": 154,
      "outputs": [
        {
          "output_type": "display_data",
          "data": {
            "text/plain": [
              "plot without title"
            ],
            "image/png": "[encoded data removed]"
          },
          "metadata": {
            "image/png": {
              "width": 350,
              "height": 393.75
            }
          }
        }
      ]
    },
    {
      "cell_type": "markdown",
      "source": [
        "\"Blunting\" of hypoxia response due to deletion of the *ENH5* enhancer\n",
        "---------------------------------------------------------------------\n",
        "\n",
        "To practice our newly acquired skills, let's redo the steps of the DESeq2 analysis using the RNA-seq data from the knockout (KO) mice."
      ],
      "metadata": {
        "id": "jweSvDxxXVLW"
      }
    },
    {
      "cell_type": "code",
      "source": [
        "load(\"hypoxia.RData\")\n",
        "i <- which(samples$Line == \"KO\")\n",
        "counts <- counts[,i]\n",
        "samples <- samples[i,]\n",
        "dat_ko <- DESeqDataSetFromMatrix(counts,samples,~Treatment)\n",
        "deseq_ko <- DESeq(dat_ko)\n",
        "res_ko <- results(deseq_ko,alpha = 0.05,contrast = list(\"Treatment_Hypoxia_vs_Normoxia\"))"
      ],
      "metadata": {
        "colab": {
          "base_uri": "https://localhost:8080/"
        },
        "id": "rdTIY7pPXpVu",
        "outputId": "25db2353-9420-41d4-e7c1-5d7ed383592a"
      },
      "execution_count": 180,
      "outputs": [
        {
          "output_type": "stream",
          "name": "stderr",
          "text": [
            "estimating size factors\n",
            "\n",
            "estimating dispersions\n",
            "\n",
            "gene-wise dispersion estimates\n",
            "\n",
            "mean-dispersion relationship\n",
            "\n",
            "final dispersion estimates\n",
            "\n",
            "fitting model and testing\n",
            "\n"
          ]
        }
      ]
    },
    {
      "cell_type": "markdown",
      "source": [
        "Reassuringly, many of the top upregulated genes in the knockout mice are the same as what we saw before in the wild-type mice:"
      ],
      "metadata": {
        "id": "JJw2avcRYLmP"
      }
    },
    {
      "cell_type": "code",
      "source": [
        "subset(res_ko,log2FoldChange > 8)"
      ],
      "metadata": {
        "colab": {
          "base_uri": "https://localhost:8080/",
          "height": 201
        },
        "id": "zNGqDIFCZxZL",
        "outputId": "8d9cff5b-4cf3-4b98-ce9b-3919ceb2ef95"
      },
      "execution_count": 186,
      "outputs": [
        {
          "output_type": "display_data",
          "data": {
            "text/plain": [
              "log2 fold change (MLE): Treatment_Hypoxia_vs_Normoxia effect \n",
              "Wald test p-value: Treatment_Hypoxia_vs_Normoxia effect \n",
              "DataFrame with 5 rows and 6 columns\n",
              "         baseMean log2FoldChange     lfcSE      stat      pvalue        padj\n",
              "        <numeric>      <numeric> <numeric> <numeric>   <numeric>   <numeric>\n",
              "C5orf46   62.9274        9.40442  2.800750   3.35782 7.85588e-04 6.18974e-03\n",
              "EGLN3   1889.5302        9.88444  0.474994  20.80961 3.54243e-96 2.33198e-92\n",
              "SLC9C2    38.2968        8.68877  1.401803   6.19828 5.70848e-10 3.05520e-08\n",
              "SMIM43   189.4371        8.03816  1.777120   4.52314 6.09289e-06 1.07261e-04\n",
              "SRARP    166.7783        8.95378  1.204341   7.43459 1.04896e-13 1.19057e-11"
            ]
          },
          "metadata": {}
        }
      ]
    },
    {
      "cell_type": "markdown",
      "source": [
        "To reproduce one of the main results of the paper, compare the LFC estimates from our DESeq2 analysis of the wild-type and knockout samples:"
      ],
      "metadata": {
        "id": "3XftVDB4aG9M"
      }
    },
    {
      "cell_type": "code",
      "source": [
        "pdat <- data.frame(wt = res$log2FoldChange,\n",
        "                   ko = res_ko$log2FoldChange)\n",
        "fit <- lm(ko ~ wt,pdat)\n",
        "coef(fit)"
      ],
      "metadata": {
        "colab": {
          "base_uri": "https://localhost:8080/",
          "height": 54
        },
        "id": "cmU_Mf4dYJ7x",
        "outputId": "b47c784e-31b5-41b2-a61c-5ccecf103c8c"
      },
      "execution_count": 181,
      "outputs": [
        {
          "output_type": "display_data",
          "data": {
            "text/plain": [
              "(Intercept)          wt \n",
              "-0.03315899  0.50727613 "
            ]
          },
          "metadata": {}
        }
      ]
    },
    {
      "cell_type": "code",
      "source": [
        "plot(pdat$wt,pdat$ko,pch = 20,xlab = \"wild-type\",ylab = \"knockout\")\n",
        "abline(a = coef(fit)[1],b = coef(fit)[2],col = \"magenta\",lty = \"dashed\")"
      ],
      "metadata": {
        "colab": {
          "base_uri": "https://localhost:8080/",
          "height": 410
        },
        "id": "aqZ7yBltY6WI",
        "outputId": "04f2ea63-0cbf-4bcc-852c-9c4cf9dca3fd"
      },
      "execution_count": 187,
      "outputs": [
        {
          "output_type": "display_data",
          "data": {
            "text/plain": [
              "plot without title"
            ],
            "image/png": "[encoded data removed]"
          },
          "metadata": {
            "image/png": {
              "width": 350,
              "height": 393.75
            }
          }
        }
      ]
    },
    {
      "cell_type": "markdown",
      "source": [
        "Compare this plot to Fig. 3 of the paper."
      ],
      "metadata": {
        "id": "DYRJtF2IZLvB"
      }
    }
  ]
}